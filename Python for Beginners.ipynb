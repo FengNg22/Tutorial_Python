{
 "cells": [
  {
   "cell_type": "markdown",
   "id": "ba8f373b-c3c8-484c-a617-dd07179ae609",
   "metadata": {},
   "source": [
    "# Python for Beginners  -- https://www.youtube.com/watch?v=kqtD5dpn9C8"
   ]
  },
  {
   "cell_type": "code",
   "execution_count": 1,
   "id": "39332643-9dac-44b4-bb00-c3adf05aafc2",
   "metadata": {},
   "outputs": [
    {
     "name": "stdout",
     "output_type": "stream",
     "text": [
      "hello world\n"
     ]
    }
   ],
   "source": [
    "print(\"hello world\")"
   ]
  },
  {
   "cell_type": "code",
   "execution_count": 3,
   "id": "cd176046-9214-4e82-9f61-6b6608c3d757",
   "metadata": {},
   "outputs": [
    {
     "name": "stdout",
     "output_type": "stream",
     "text": [
      "age: 20\n"
     ]
    }
   ],
   "source": [
    "age = 20\n",
    "print(\"age:\", age)"
   ]
  },
  {
   "cell_type": "code",
   "execution_count": 5,
   "id": "06fb24a5-1c42-4de2-ad01-16c6c37346ed",
   "metadata": {},
   "outputs": [
    {
     "name": "stdout",
     "output_type": "stream",
     "text": [
      "20 19.95 Feng False\n"
     ]
    }
   ],
   "source": [
    "age = 20\n",
    "price = 19.95\n",
    "first_name = \"Feng\"\n",
    "is_online = False\n",
    "\n",
    "print(age, price, first_name, is_online)"
   ]
  },
  {
   "cell_type": "code",
   "execution_count": 7,
   "id": "68f01ffc-d6bf-4a8b-83dd-e8903dca0e9a",
   "metadata": {},
   "outputs": [
    {
     "name": "stdout",
     "output_type": "stream",
     "text": [
      "John Smith 20 True\n"
     ]
    }
   ],
   "source": [
    "pName= \"John Smith\"\n",
    "Age = 20\n",
    "is_new = True\n",
    "\n",
    "print(pName, Age, is_new)"
   ]
  },
  {
   "cell_type": "code",
   "execution_count": 10,
   "id": "b4f4f7a7-2392-43f0-a344-725aae52702e",
   "metadata": {
    "tags": []
   },
   "outputs": [
    {
     "name": "stdin",
     "output_type": "stream",
     "text": [
      "what is your name? Feng\n"
     ]
    },
    {
     "name": "stdout",
     "output_type": "stream",
     "text": [
      "Hello  Feng\n"
     ]
    }
   ],
   "source": [
    "name=input(\"what is your name?\")\n",
    "print(\"Hello \", name)"
   ]
  },
  {
   "cell_type": "code",
   "execution_count": 11,
   "id": "10421f41-3da7-4862-bb9b-6515f840d15d",
   "metadata": {},
   "outputs": [
    {
     "name": "stdin",
     "output_type": "stream",
     "text": [
      "enter ur birth year 1955\n"
     ]
    },
    {
     "name": "stdout",
     "output_type": "stream",
     "text": [
      "Age:  66\n"
     ]
    }
   ],
   "source": [
    "birth_year=input(\"enter ur birth year\")\n",
    "age = 2021 - int(birth_year)\n",
    "print(\"Age: \", age)"
   ]
  },
  {
   "cell_type": "code",
   "execution_count": 14,
   "id": "dbddb2b7-caf8-41a8-b14e-c93c270ad4c8",
   "metadata": {},
   "outputs": [
    {
     "name": "stdin",
     "output_type": "stream",
     "text": [
      " 1st number:  20\n",
      " 2nd number:  10.1\n"
     ]
    },
    {
     "name": "stdout",
     "output_type": "stream",
     "text": [
      "sum:  30.1\n"
     ]
    }
   ],
   "source": [
    "first=input(' 1st number: ')\n",
    "second=input(' 2nd number: ')\n",
    "sum= float(first) + float(second)\n",
    "print(\"sum: \" , sum)"
   ]
  },
  {
   "cell_type": "code",
   "execution_count": 31,
   "id": "86e8c477-f281-47f8-931e-1ba96eb43cf9",
   "metadata": {},
   "outputs": [
    {
     "name": "stdout",
     "output_type": "stream",
     "text": [
      "FENG FENG 22\n",
      "feng feng 22\n",
      "0\n",
      "-1\n",
      "0\n",
      "FFeng FFeng 22\n",
      "False\n",
      "Feng Feng 22\n"
     ]
    }
   ],
   "source": [
    "course = \"Feng Feng 22\"\n",
    "print (course.upper())\n",
    "print (course.lower())\n",
    "print (course.find('F'))\n",
    "print (course.find('f'))\n",
    "print (course.find('Fe'))\n",
    "print (course.replace('F', 'FF'))\n",
    "print (\"Woon\" in course)\n",
    "print (course)\n"
   ]
  },
  {
   "cell_type": "code",
   "execution_count": 28,
   "id": "48b265fd-e00f-4dfc-9242-103038732566",
   "metadata": {},
   "outputs": [
    {
     "name": "stdout",
     "output_type": "stream",
     "text": [
      "13\n"
     ]
    }
   ],
   "source": [
    "X=10\n",
    "X+=3\n",
    "print(X)"
   ]
  },
  {
   "cell_type": "code",
   "execution_count": 29,
   "id": "23a08f0d-b6fa-4e51-87a5-e7487677e686",
   "metadata": {},
   "outputs": [
    {
     "name": "stdout",
     "output_type": "stream",
     "text": [
      "False True False True\n"
     ]
    }
   ],
   "source": [
    "x= 3==2\n",
    "y= 3!=2\n",
    "z= 3<2\n",
    "w= 3>2\n",
    "\n",
    "print(x,y,z,w)"
   ]
  },
  {
   "cell_type": "code",
   "execution_count": 30,
   "id": "ba9e19bb-9836-441c-ae3b-a0465ea5e3b6",
   "metadata": {},
   "outputs": [
    {
     "name": "stdout",
     "output_type": "stream",
     "text": [
      "True\n"
     ]
    }
   ],
   "source": [
    "price=25\n",
    "print(price>10 and price <30)"
   ]
  },
  {
   "cell_type": "code",
   "execution_count": 33,
   "id": "6ed6f94f-f4af-4e6d-aebe-d99fbbb2eb52",
   "metadata": {},
   "outputs": [
    {
     "name": "stdout",
     "output_type": "stream",
     "text": [
      "False\n"
     ]
    }
   ],
   "source": [
    "print(not price >10)"
   ]
  },
  {
   "cell_type": "code",
   "execution_count": 41,
   "id": "ef6fcfad-510f-4811-be8b-e3db622d3484",
   "metadata": {},
   "outputs": [
    {
     "name": "stdin",
     "output_type": "stream",
     "text": [
      "temp: 35\n"
     ]
    },
    {
     "name": "stdout",
     "output_type": "stream",
     "text": [
      " hot day\n",
      "DONE\n"
     ]
    }
   ],
   "source": [
    "temp = float(input('temp:'))\n",
    "\n",
    "if temp > 30:\n",
    "    print(' hot day')\n",
    "elif temp >20:\n",
    "    print('not hot day')\n",
    "print('DONE')"
   ]
  },
  {
   "cell_type": "code",
   "execution_count": 55,
   "id": "404be6c2-3847-4f5a-8bb9-1cb67d553da2",
   "metadata": {},
   "outputs": [
    {
     "name": "stdin",
     "output_type": "stream",
     "text": [
      "weight:  56\n",
      "(K)g or (L)bs: k\n"
     ]
    },
    {
     "name": "stdout",
     "output_type": "stream",
     "text": [
      "Weight in lbs:  123.45871999999999\n"
     ]
    }
   ],
   "source": [
    "w = float(input ('weight: '))\n",
    "unit= input('(K)g or (L)bs:')\n",
    "\n",
    "if unit=='K' or unit=='k': #python is case-sensitive language\n",
    "    print('Weight in lbs: ' , w*2.20462)\n",
    "elif unit=='L' or unit=='l':\n",
    "    print('Weight in Kg: ' , w/2.20462)\n",
    "else:\n",
    "    print('Wrong input')\n",
    "    \n"
   ]
  },
  {
   "cell_type": "code",
   "execution_count": 58,
   "id": "f111cf52-5189-406f-8e40-6fde15f23082",
   "metadata": {},
   "outputs": [
    {
     "name": "stdout",
     "output_type": "stream",
     "text": [
      "1\n",
      "2\n",
      "3\n",
      "4\n",
      "5\n"
     ]
    }
   ],
   "source": [
    "i=1\n",
    "while (i<=5):\n",
    "    print(i)\n",
    "    i+=1"
   ]
  },
  {
   "cell_type": "code",
   "execution_count": 59,
   "id": "a8dfd303-ad3e-4da1-a133-583cb67c7e6e",
   "metadata": {},
   "outputs": [
    {
     "name": "stdout",
     "output_type": "stream",
     "text": [
      "*\n",
      "**\n",
      "***\n",
      "****\n",
      "*****\n"
     ]
    }
   ],
   "source": [
    "i=1\n",
    "while (i<=5):\n",
    "    print(i*'*')\n",
    "    i+=1"
   ]
  },
  {
   "cell_type": "code",
   "execution_count": 75,
   "id": "b9ba2572-389e-4c2d-85c2-ebbd173b56b7",
   "metadata": {},
   "outputs": [
    {
     "name": "stdout",
     "output_type": "stream",
     "text": [
      "[1, 2, 3, 4, 5, 6]\n",
      "[1, 2, 9, 3, 4, 5, 6]\n",
      "[1, 2, 9, 3, 4, 6]\n",
      "True\n",
      "6\n",
      "[]\n"
     ]
    }
   ],
   "source": [
    "num=[1,2,3,4,5]\n",
    "num.append(6)\n",
    "print(num)\n",
    "\n",
    "num.insert(2,9)\n",
    "print(num)\n",
    "\n",
    "num.remove(5)\n",
    "print(num)\n",
    "\n",
    "print(6 in num)\n",
    "print(len(num))\n",
    "\n",
    "num.clear()\n",
    "print(num)"
   ]
  },
  {
   "cell_type": "code",
   "execution_count": 83,
   "id": "c4f329f6-0300-406e-a878-693f2fca0016",
   "metadata": {},
   "outputs": [
    {
     "name": "stdout",
     "output_type": "stream",
     "text": [
      "[1, 2, 3, 4, 5]\n"
     ]
    }
   ],
   "source": [
    "num=[1,2,3,4,5]\n",
    "print(num)"
   ]
  },
  {
   "cell_type": "code",
   "execution_count": 98,
   "id": "d685a192-e85b-4759-a593-7ce8946cbd7f",
   "metadata": {},
   "outputs": [
    {
     "name": "stdout",
     "output_type": "stream",
     "text": [
      "100\n",
      "200\n",
      "300\n",
      "400\n",
      "500\n",
      "*******************************\n",
      "[100, 200, 300, 400, 500]\n",
      "[100, 200, 300, 400, 500]\n",
      "[100, 200, 300, 400, 500]\n",
      "[100, 200, 300, 400, 500]\n",
      "[100, 200, 300, 400, 500]\n",
      "*******************************\n",
      "100\n",
      "100\n",
      "100\n",
      "100\n",
      "100\n",
      "*******************************\n",
      "1\n",
      "2\n",
      "3\n",
      "4\n",
      "5\n",
      "*******************************\n",
      "5\n"
     ]
    }
   ],
   "source": [
    "num=[100,200,300,400,500]\n",
    "for item in num:\n",
    "    print(item)\n",
    "    \n",
    "print('*******************************')\n",
    "\n",
    "for item in num:\n",
    "    print(num)\n",
    "    \n",
    "print('*******************************')\n",
    "\n",
    "for item in num:\n",
    "    print(num[0])\n",
    "    \n",
    "print('*******************************')\n",
    "i=1\n",
    "for item in num:\n",
    "    print(i)\n",
    "    i+=1\n",
    "    \n",
    "print('*******************************')\n",
    "print(len(num))\n",
    "\n"
   ]
  },
  {
   "cell_type": "code",
   "execution_count": 105,
   "id": "2f17acfe-4cf4-4a21-b2fe-c131c6b374e3",
   "metadata": {},
   "outputs": [
    {
     "name": "stdout",
     "output_type": "stream",
     "text": [
      "range(0, 5)\n",
      "*******************************\n",
      "0\n",
      "1\n",
      "2\n",
      "3\n",
      "4\n",
      "*******************************\n",
      "5\n",
      "6\n",
      "7\n",
      "8\n",
      "9\n"
     ]
    }
   ],
   "source": [
    "num=range(5) #0,1,2,3,4\n",
    "print(num)\n",
    "\n",
    "print('*******************************')\n",
    "\n",
    "for item in num:\n",
    "    print(item)\n",
    "    \n",
    "print('*******************************')\n",
    "\n",
    "for item in range(5,10):\n",
    "    print(item)"
   ]
  },
  {
   "cell_type": "code",
   "execution_count": 107,
   "id": "7ed74af2-7458-46da-90d1-5aa11ba69163",
   "metadata": {},
   "outputs": [
    {
     "ename": "AttributeError",
     "evalue": "'tuple' object has no attribute 'insert'",
     "output_type": "error",
     "traceback": [
      "\u001b[0;31m---------------------------------------------------------------------------\u001b[0m",
      "\u001b[0;31mAttributeError\u001b[0m                            Traceback (most recent call last)",
      "\u001b[0;32m/tmp/ipykernel_66/1555470992.py\u001b[0m in \u001b[0;36m<module>\u001b[0;34m\u001b[0m\n\u001b[1;32m      2\u001b[0m \u001b[0;34m\u001b[0m\u001b[0m\n\u001b[1;32m      3\u001b[0m \u001b[0mtup\u001b[0m\u001b[0;34m=\u001b[0m\u001b[0;34m(\u001b[0m\u001b[0;36m1\u001b[0m\u001b[0;34m,\u001b[0m\u001b[0;36m2\u001b[0m\u001b[0;34m,\u001b[0m\u001b[0;36m3\u001b[0m\u001b[0;34m,\u001b[0m\u001b[0;36m4\u001b[0m\u001b[0;34m,\u001b[0m\u001b[0;36m5\u001b[0m\u001b[0;34m)\u001b[0m\u001b[0;34m\u001b[0m\u001b[0;34m\u001b[0m\u001b[0m\n\u001b[0;32m----> 4\u001b[0;31m \u001b[0mtup\u001b[0m\u001b[0;34m.\u001b[0m\u001b[0minsert\u001b[0m\u001b[0;34m(\u001b[0m\u001b[0;36m6\u001b[0m\u001b[0;34m)\u001b[0m\u001b[0;34m\u001b[0m\u001b[0;34m\u001b[0m\u001b[0m\n\u001b[0m",
      "\u001b[0;31mAttributeError\u001b[0m: 'tuple' object has no attribute 'insert'"
     ]
    }
   ],
   "source": [
    "# tuples\n",
    "\n",
    "tup=(1,2,3,4,5)\n",
    "tup.insert(6)"
   ]
  }
 ],
 "metadata": {
  "kernelspec": {
   "display_name": "Python",
   "language": "python",
   "name": "conda-env-python-py"
  },
  "language_info": {
   "codemirror_mode": {
    "name": "ipython",
    "version": 3
   },
   "file_extension": ".py",
   "mimetype": "text/x-python",
   "name": "python",
   "nbconvert_exporter": "python",
   "pygments_lexer": "ipython3",
   "version": "3.7.10"
  }
 },
 "nbformat": 4,
 "nbformat_minor": 5
}
