{
 "cells": [
  {
   "cell_type": "code",
   "execution_count": 10,
   "id": "8a9c1f61-1ea4-46bb-ad37-29b6c11c4eb9",
   "metadata": {},
   "outputs": [
    {
     "name": "stdout",
     "output_type": "stream",
     "text": [
      "[10, 20, 70, 5, 66, 109]\n",
      "*******************************\n",
      "smallest:  5\n",
      "largest:  109\n",
      "*******************************\n",
      "[5, 10, 20, 66, 70, 109]\n",
      "smallest:  5\n",
      "largest:  109\n"
     ]
    }
   ],
   "source": [
    "numbers= [10,20, 70, 5, 66, 109]\n",
    "print (numbers)\n",
    "\n",
    "print('*******************************')\n",
    "\n",
    "print('smallest: ',min(numbers))\n",
    "print('largest: ',max(numbers))\n",
    "\n",
    "print('*******************************')\n",
    "\n",
    "numbers.sort()\n",
    "print(numbers)\n",
    "print('smallest: ',numbers[0])\n",
    "print('largest: ',numbers[-1])\n"
   ]
  }
 ],
 "metadata": {
  "kernelspec": {
   "display_name": "Python",
   "language": "python",
   "name": "conda-env-python-py"
  },
  "language_info": {
   "codemirror_mode": {
    "name": "ipython",
    "version": 3
   },
   "file_extension": ".py",
   "mimetype": "text/x-python",
   "name": "python",
   "nbconvert_exporter": "python",
   "pygments_lexer": "ipython3",
   "version": "3.7.10"
  }
 },
 "nbformat": 4,
 "nbformat_minor": 5
}
