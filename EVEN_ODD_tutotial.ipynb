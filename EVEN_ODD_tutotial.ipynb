{
 "cells": [
  {
   "cell_type": "code",
   "execution_count": 3,
   "id": "b805c7da-b65d-4a9b-b710-30dc65fa500a",
   "metadata": {},
   "outputs": [
    {
     "name": "stdin",
     "output_type": "stream",
     "text": [
      " Enter a number:  7\n"
     ]
    },
    {
     "name": "stdout",
     "output_type": "stream",
     "text": [
      "7.0  is ODD number\n"
     ]
    }
   ],
   "source": [
    "number= float(input(\" Enter a number: \"))\n",
    "\n",
    "if number%2 == 0: # input is even\n",
    "    print(number, \" is EVEN number\")\n",
    "else:\n",
    "    print(number, \" is ODD number\")"
   ]
  },
  {
   "cell_type": "code",
   "execution_count": 4,
   "id": "85377bf6-784b-464f-aa72-8c339dbd59f4",
   "metadata": {},
   "outputs": [
    {
     "name": "stdin",
     "output_type": "stream",
     "text": [
      " Enter a number:  990\n"
     ]
    },
    {
     "name": "stdout",
     "output_type": "stream",
     "text": [
      "990.0  is EVEN number\n"
     ]
    }
   ],
   "source": [
    "number= float(input(\" Enter a number: \"))\n",
    "\n",
    "if number%2 == 0: # input is even\n",
    "    print(number, \" is EVEN number\")\n",
    "else:\n",
    "    print(number, \" is ODD number\")"
   ]
  }
 ],
 "metadata": {
  "kernelspec": {
   "display_name": "Python",
   "language": "python",
   "name": "conda-env-python-py"
  },
  "language_info": {
   "codemirror_mode": {
    "name": "ipython",
    "version": 3
   },
   "file_extension": ".py",
   "mimetype": "text/x-python",
   "name": "python",
   "nbconvert_exporter": "python",
   "pygments_lexer": "ipython3",
   "version": "3.7.10"
  }
 },
 "nbformat": 4,
 "nbformat_minor": 5
}
