{
 "cells": [
  {
   "cell_type": "code",
   "execution_count": 15,
   "id": "216f5dec-4625-4d27-acd4-9a9ec3c6846e",
   "metadata": {},
   "outputs": [
    {
     "name": "stdout",
     "output_type": "stream",
     "text": [
      "*******************************\n",
      "[10, 30, 40, 50, 60, 70, 80, 90]\n",
      "*******************************\n"
     ]
    }
   ],
   "source": [
    "data=[10,10,80, 90,60,70, 80,80,50,40,30,30]\n",
    "data.sort()\n",
    "print('*******************************')\n",
    "\n",
    "def remove_duplicates(duplist):\n",
    "    noduplist=[]\n",
    "    \n",
    "    for item in duplist:\n",
    "        if item not in noduplist:\n",
    "            noduplist.append(item)\n",
    "    return noduplist\n",
    "\n",
    "print(remove_duplicates(data))\n",
    "\n",
    "print('*******************************')"
   ]
  }
 ],
 "metadata": {
  "kernelspec": {
   "display_name": "Python",
   "language": "python",
   "name": "conda-env-python-py"
  },
  "language_info": {
   "codemirror_mode": {
    "name": "ipython",
    "version": 3
   },
   "file_extension": ".py",
   "mimetype": "text/x-python",
   "name": "python",
   "nbconvert_exporter": "python",
   "pygments_lexer": "ipython3",
   "version": "3.7.10"
  }
 },
 "nbformat": 4,
 "nbformat_minor": 5
}
